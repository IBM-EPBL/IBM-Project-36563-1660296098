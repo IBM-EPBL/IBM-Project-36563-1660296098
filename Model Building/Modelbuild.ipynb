{
  "cells": [
    {
      "cell_type": "code",
      "execution_count": null,
      "metadata": {
        "colab": {
          "base_uri": "https://localhost:8080/"
        },
        "id": "-lAk_Osxdi7R",
        "outputId": "7d11e466-d3d9-448d-b7cc-4e81adcd80e6"
      },
      "outputs": [
        {
          "output_type": "stream",
          "name": "stdout",
          "text": [
            "Looking in indexes: https://pypi.org/simple, https://us-python.pkg.dev/colab-wheels/public/simple/\n",
            "Requirement already satisfied: tensorflow in /usr/local/lib/python3.7/dist-packages (2.9.2)\n",
            "Requirement already satisfied: gast<=0.4.0,>=0.2.1 in /usr/local/lib/python3.7/dist-packages (from tensorflow) (0.4.0)\n",
            "Requirement already satisfied: libclang>=13.0.0 in /usr/local/lib/python3.7/dist-packages (from tensorflow) (14.0.6)\n",
            "Requirement already satisfied: termcolor>=1.1.0 in /usr/local/lib/python3.7/dist-packages (from tensorflow) (2.0.1)\n",
            "Requirement already satisfied: protobuf<3.20,>=3.9.2 in /usr/local/lib/python3.7/dist-packages (from tensorflow) (3.17.3)\n",
            "Requirement already satisfied: tensorflow-io-gcs-filesystem>=0.23.1 in /usr/local/lib/python3.7/dist-packages (from tensorflow) (0.27.0)\n",
            "Requirement already satisfied: tensorboard<2.10,>=2.9 in /usr/local/lib/python3.7/dist-packages (from tensorflow) (2.9.1)\n",
            "Requirement already satisfied: tensorflow-estimator<2.10.0,>=2.9.0rc0 in /usr/local/lib/python3.7/dist-packages (from tensorflow) (2.9.0)\n",
            "Requirement already satisfied: h5py>=2.9.0 in /usr/local/lib/python3.7/dist-packages (from tensorflow) (3.1.0)\n",
            "Requirement already satisfied: keras-preprocessing>=1.1.1 in /usr/local/lib/python3.7/dist-packages (from tensorflow) (1.1.2)\n",
            "Requirement already satisfied: packaging in /usr/local/lib/python3.7/dist-packages (from tensorflow) (21.3)\n",
            "Requirement already satisfied: wrapt>=1.11.0 in /usr/local/lib/python3.7/dist-packages (from tensorflow) (1.14.1)\n",
            "Requirement already satisfied: google-pasta>=0.1.1 in /usr/local/lib/python3.7/dist-packages (from tensorflow) (0.2.0)\n",
            "Requirement already satisfied: astunparse>=1.6.0 in /usr/local/lib/python3.7/dist-packages (from tensorflow) (1.6.3)\n",
            "Requirement already satisfied: keras<2.10.0,>=2.9.0rc0 in /usr/local/lib/python3.7/dist-packages (from tensorflow) (2.9.0)\n",
            "Requirement already satisfied: absl-py>=1.0.0 in /usr/local/lib/python3.7/dist-packages (from tensorflow) (1.3.0)\n",
            "Requirement already satisfied: flatbuffers<2,>=1.12 in /usr/local/lib/python3.7/dist-packages (from tensorflow) (1.12)\n",
            "Requirement already satisfied: setuptools in /usr/local/lib/python3.7/dist-packages (from tensorflow) (57.4.0)\n",
            "Requirement already satisfied: opt-einsum>=2.3.2 in /usr/local/lib/python3.7/dist-packages (from tensorflow) (3.3.0)\n",
            "Requirement already satisfied: numpy>=1.20 in /usr/local/lib/python3.7/dist-packages (from tensorflow) (1.21.6)\n",
            "Requirement already satisfied: typing-extensions>=3.6.6 in /usr/local/lib/python3.7/dist-packages (from tensorflow) (4.1.1)\n",
            "Requirement already satisfied: grpcio<2.0,>=1.24.3 in /usr/local/lib/python3.7/dist-packages (from tensorflow) (1.50.0)\n",
            "Requirement already satisfied: six>=1.12.0 in /usr/local/lib/python3.7/dist-packages (from tensorflow) (1.15.0)\n",
            "Requirement already satisfied: wheel<1.0,>=0.23.0 in /usr/local/lib/python3.7/dist-packages (from astunparse>=1.6.0->tensorflow) (0.37.1)\n",
            "Requirement already satisfied: cached-property in /usr/local/lib/python3.7/dist-packages (from h5py>=2.9.0->tensorflow) (1.5.2)\n",
            "Requirement already satisfied: requests<3,>=2.21.0 in /usr/local/lib/python3.7/dist-packages (from tensorboard<2.10,>=2.9->tensorflow) (2.23.0)\n",
            "Requirement already satisfied: tensorboard-plugin-wit>=1.6.0 in /usr/local/lib/python3.7/dist-packages (from tensorboard<2.10,>=2.9->tensorflow) (1.8.1)\n",
            "Requirement already satisfied: tensorboard-data-server<0.7.0,>=0.6.0 in /usr/local/lib/python3.7/dist-packages (from tensorboard<2.10,>=2.9->tensorflow) (0.6.1)\n",
            "Requirement already satisfied: markdown>=2.6.8 in /usr/local/lib/python3.7/dist-packages (from tensorboard<2.10,>=2.9->tensorflow) (3.4.1)\n",
            "Requirement already satisfied: google-auth-oauthlib<0.5,>=0.4.1 in /usr/local/lib/python3.7/dist-packages (from tensorboard<2.10,>=2.9->tensorflow) (0.4.6)\n",
            "Requirement already satisfied: google-auth<3,>=1.6.3 in /usr/local/lib/python3.7/dist-packages (from tensorboard<2.10,>=2.9->tensorflow) (1.35.0)\n",
            "Requirement already satisfied: werkzeug>=1.0.1 in /usr/local/lib/python3.7/dist-packages (from tensorboard<2.10,>=2.9->tensorflow) (1.0.1)\n",
            "Requirement already satisfied: rsa<5,>=3.1.4 in /usr/local/lib/python3.7/dist-packages (from google-auth<3,>=1.6.3->tensorboard<2.10,>=2.9->tensorflow) (4.9)\n",
            "Requirement already satisfied: cachetools<5.0,>=2.0.0 in /usr/local/lib/python3.7/dist-packages (from google-auth<3,>=1.6.3->tensorboard<2.10,>=2.9->tensorflow) (4.2.4)\n",
            "Requirement already satisfied: pyasn1-modules>=0.2.1 in /usr/local/lib/python3.7/dist-packages (from google-auth<3,>=1.6.3->tensorboard<2.10,>=2.9->tensorflow) (0.2.8)\n",
            "Requirement already satisfied: requests-oauthlib>=0.7.0 in /usr/local/lib/python3.7/dist-packages (from google-auth-oauthlib<0.5,>=0.4.1->tensorboard<2.10,>=2.9->tensorflow) (1.3.1)\n",
            "Requirement already satisfied: importlib-metadata>=4.4 in /usr/local/lib/python3.7/dist-packages (from markdown>=2.6.8->tensorboard<2.10,>=2.9->tensorflow) (4.13.0)\n",
            "Requirement already satisfied: zipp>=0.5 in /usr/local/lib/python3.7/dist-packages (from importlib-metadata>=4.4->markdown>=2.6.8->tensorboard<2.10,>=2.9->tensorflow) (3.10.0)\n",
            "Requirement already satisfied: pyasn1<0.5.0,>=0.4.6 in /usr/local/lib/python3.7/dist-packages (from pyasn1-modules>=0.2.1->google-auth<3,>=1.6.3->tensorboard<2.10,>=2.9->tensorflow) (0.4.8)\n",
            "Requirement already satisfied: urllib3!=1.25.0,!=1.25.1,<1.26,>=1.21.1 in /usr/local/lib/python3.7/dist-packages (from requests<3,>=2.21.0->tensorboard<2.10,>=2.9->tensorflow) (1.24.3)\n",
            "Requirement already satisfied: idna<3,>=2.5 in /usr/local/lib/python3.7/dist-packages (from requests<3,>=2.21.0->tensorboard<2.10,>=2.9->tensorflow) (2.10)\n",
            "Requirement already satisfied: certifi>=2017.4.17 in /usr/local/lib/python3.7/dist-packages (from requests<3,>=2.21.0->tensorboard<2.10,>=2.9->tensorflow) (2022.9.24)\n",
            "Requirement already satisfied: chardet<4,>=3.0.2 in /usr/local/lib/python3.7/dist-packages (from requests<3,>=2.21.0->tensorboard<2.10,>=2.9->tensorflow) (3.0.4)\n",
            "Requirement already satisfied: oauthlib>=3.0.0 in /usr/local/lib/python3.7/dist-packages (from requests-oauthlib>=0.7.0->google-auth-oauthlib<0.5,>=0.4.1->tensorboard<2.10,>=2.9->tensorflow) (3.2.2)\n",
            "Requirement already satisfied: pyparsing!=3.0.5,>=2.0.2 in /usr/local/lib/python3.7/dist-packages (from packaging->tensorflow) (3.0.9)\n"
          ]
        }
      ],
      "source": [
        "!pip install tensorflow\n"
      ]
    },
    {
      "cell_type": "markdown",
      "source": [
        "# New Section"
      ],
      "metadata": {
        "id": "nUR_Rsx_VXz7"
      }
    },
    {
      "cell_type": "code",
      "execution_count": 6,
      "metadata": {
        "colab": {
          "base_uri": "https://localhost:8080/"
        },
        "id": "RCkQHOvNeAVG",
        "outputId": "dc6f5ea6-63b3-44a7-f95c-67104f8050e8"
      },
      "outputs": [
        {
          "output_type": "stream",
          "name": "stdout",
          "text": [
            "Mounted at /content/drive\n"
          ]
        }
      ],
      "source": [
        "from google.colab import drive\n",
        "drive.mount('/content/drive')"
      ]
    },
    {
      "cell_type": "code",
      "execution_count": null,
      "metadata": {
        "colab": {
          "base_uri": "https://localhost:8080/"
        },
        "id": "y5W5hBXueoIq",
        "outputId": "66b26445-5737-4954-a027-431355d66ee2"
      },
      "outputs": [
        {
          "output_type": "stream",
          "name": "stdout",
          "text": [
            "0 0 0\n",
            "0 0 1\n",
            "0 0 2\n",
            "/content/drive/MyDrive/dataset/Dataset/Dataset/train_set/forest/with_fire (1).gif\n",
            "0 0 3\n",
            "0 0 4\n",
            "0 0 5\n",
            "0 0 6\n",
            "0 0 7\n",
            "0 0 8\n",
            "0 0 9\n",
            "0 0 10\n",
            "0 0 11\n",
            "0 0 12\n",
            "0 0 13\n",
            "0 0 14\n",
            "0 0 15\n",
            "0 0 16\n",
            "0 0 17\n",
            "0 0 18\n",
            "0 0 19\n",
            "0 0 20\n",
            "0 0 21\n",
            "0 0 22\n",
            "0 0 23\n",
            "0 0 24\n",
            "0 0 25\n",
            "0 0 26\n",
            "0 0 27\n",
            "0 0 28\n",
            "0 0 29\n",
            "0 0 30\n",
            "0 0 31\n",
            "0 0 32\n",
            "0 0 33\n",
            "0 0 34\n",
            "0 0 35\n",
            "0 0 36\n",
            "0 0 37\n",
            "0 0 38\n",
            "0 0 39\n",
            "0 0 40\n",
            "0 0 41\n",
            "0 0 42\n",
            "0 0 43\n",
            "0 0 44\n",
            "0 0 45\n",
            "0 0 46\n",
            "0 0 47\n",
            "0 0 48\n",
            "0 0 49\n",
            "0 0 50\n",
            "0 0 51\n",
            "0 0 52\n",
            "0 0 53\n",
            "0 0 54\n",
            "0 0 55\n",
            "0 0 56\n",
            "0 0 57\n",
            "0 0 58\n",
            "0 0 59\n",
            "0 0 60\n",
            "0 0 61\n",
            "0 0 62\n",
            "0 0 63\n",
            "0 0 64\n",
            "0 0 65\n",
            "0 0 66\n",
            "0 0 67\n",
            "0 0 68\n",
            "0 0 69\n",
            "0 0 70\n",
            "0 0 71\n",
            "0 0 72\n",
            "0 0 73\n",
            "0 0 74\n",
            "0 0 75\n",
            "0 0 76\n",
            "0 0 77\n",
            "0 0 78\n",
            "0 0 79\n",
            "0 0 80\n",
            "0 0 81\n",
            "0 0 82\n",
            "0 0 83\n",
            "0 0 84\n",
            "0 0 85\n",
            "0 0 86\n",
            "0 0 87\n",
            "0 0 88\n",
            "0 0 89\n",
            "0 0 90\n",
            "0 0 91\n",
            "0 0 92\n",
            "0 0 93\n",
            "0 0 94\n",
            "0 0 95\n",
            "0 0 96\n",
            "0 0 97\n",
            "0 0 98\n",
            "0 0 99\n",
            "0 0 100\n",
            "0 0 101\n",
            "0 0 102\n",
            "0 0 103\n",
            "0 0 104\n",
            "0 0 105\n",
            "0 0 106\n",
            "0 0 107\n",
            "0 0 108\n",
            "0 0 109\n",
            "0 0 110\n",
            "0 0 111\n",
            "0 0 112\n",
            "0 0 113\n",
            "0 0 114\n",
            "0 0 115\n",
            "0 0 116\n",
            "0 0 117\n",
            "0 0 118\n",
            "0 0 119\n",
            "0 0 120\n",
            "0 0 121\n",
            "0 0 122\n",
            "0 0 123\n",
            "0 0 124\n",
            "0 0 125\n",
            "0 0 126\n",
            "0 0 127\n",
            "0 0 128\n",
            "0 0 129\n",
            "0 0 130\n",
            "0 0 131\n",
            "0 0 132\n",
            "0 0 133\n",
            "0 0 134\n",
            "0 0 135\n",
            "0 0 136\n",
            "0 0 137\n",
            "0 0 138\n",
            "0 0 139\n",
            "0 0 140\n",
            "0 0 141\n",
            "0 0 142\n",
            "0 0 143\n",
            "0 0 144\n",
            "0 0 145\n",
            "0 0 146\n",
            "0 0 147\n",
            "0 0 148\n",
            "0 0 149\n",
            "0 0 150\n",
            "0 0 151\n",
            "0 0 152\n",
            "0 0 153\n",
            "0 0 154\n",
            "0 0 155\n",
            "0 0 156\n",
            "0 0 157\n",
            "0 0 158\n",
            "0 0 159\n",
            "0 0 160\n",
            "0 0 161\n",
            "0 0 162\n",
            "0 0 163\n",
            "0 0 164\n",
            "0 0 165\n",
            "0 0 166\n",
            "0 0 167\n",
            "0 0 168\n",
            "0 0 169\n",
            "0 0 170\n",
            "0 0 171\n",
            "0 0 172\n",
            "0 0 173\n",
            "0 0 174\n",
            "0 0 175\n",
            "0 0 176\n",
            "0 0 177\n",
            "0 0 178\n",
            "0 0 179\n",
            "0 0 180\n",
            "0 0 181\n",
            "0 0 182\n",
            "0 0 183\n",
            "0 0 184\n",
            "0 0 185\n",
            "0 0 186\n",
            "0 0 187\n",
            "0 0 188\n",
            "0 0 189\n",
            "0 0 190\n",
            "0 0 191\n",
            "0 0 192\n",
            "0 0 193\n",
            "0 0 194\n",
            "0 0 195\n",
            "0 0 196\n",
            "0 0 197\n",
            "0 0 198\n",
            "0 0 199\n",
            "0 0 200\n",
            "0 0 201\n",
            "0 0 202\n",
            "0 0 203\n",
            "0 0 204\n",
            "0 0 205\n",
            "0 0 206\n",
            "0 0 207\n",
            "0 0 208\n",
            "0 0 209\n",
            "0 0 210\n",
            "0 0 211\n",
            "0 0 212\n",
            "0 0 213\n",
            "0 0 214\n",
            "0 0 215\n",
            "0 0 216\n",
            "0 0 217\n",
            "0 0 218\n",
            "0 0 219\n",
            "0 0 220\n",
            "0 0 221\n",
            "0 0 222\n",
            "0 0 223\n",
            "0 0 224\n",
            "0 0 225\n",
            "0 0 226\n",
            "0 0 227\n",
            "0 0 228\n",
            "0 0 229\n",
            "0 0 230\n",
            "0 0 231\n",
            "0 0 232\n",
            "0 0 233\n",
            "0 0 234\n",
            "0 0 235\n",
            "0 0 236\n",
            "0 0 237\n",
            "0 0 238\n",
            "0 0 239\n",
            "0 0 240\n",
            "0 0 241\n",
            "0 0 242\n",
            "0 0 243\n",
            "0 0 244\n",
            "0 0 245\n",
            "0 0 246\n",
            "0 0 247\n",
            "0 0 248\n",
            "0 0 249\n",
            "0 0 250\n",
            "0 0 251\n",
            "0 0 252\n",
            "0 0 253\n",
            "0 0 254\n",
            "0 0 255\n",
            "0 0 256\n",
            "0 0 257\n",
            "0 0 258\n",
            "0 0 259\n",
            "0 0 260\n",
            "0 0 261\n",
            "0 0 262\n",
            "0 0 263\n",
            "0 0 264\n",
            "0 0 265\n",
            "0 0 266\n",
            "0 0 267\n",
            "0 0 268\n",
            "0 0 269\n",
            "0 0 270\n",
            "0 0 271\n",
            "0 0 272\n",
            "0 0 273\n",
            "0 0 274\n",
            "0 0 275\n",
            "0 0 276\n",
            "0 0 277\n",
            "0 0 278\n",
            "0 0 279\n",
            "0 0 280\n",
            "0 0 281\n",
            "0 0 282\n",
            "0 0 283\n",
            "0 0 284\n",
            "0 0 285\n",
            "0 0 286\n",
            "0 0 287\n",
            "0 0 288\n",
            "0 0 289\n",
            "0 0 290\n",
            "0 1 0\n",
            "0 1 1\n",
            "0 1 2\n",
            "0 1 3\n",
            "0 1 4\n",
            "0 1 5\n",
            "0 1 6\n",
            "0 1 7\n",
            "0 1 8\n",
            "0 1 9\n",
            "0 1 10\n",
            "0 1 11\n",
            "0 1 12\n",
            "0 1 13\n",
            "0 1 14\n",
            "0 1 15\n",
            "0 1 16\n",
            "0 1 17\n",
            "0 1 18\n",
            "0 1 19\n",
            "0 1 20\n",
            "0 1 21\n",
            "0 1 22\n",
            "0 1 23\n",
            "0 1 24\n",
            "0 1 25\n",
            "0 1 26\n",
            "0 1 27\n",
            "0 1 28\n",
            "0 1 29\n",
            "0 1 30\n",
            "0 1 31\n",
            "0 1 32\n",
            "0 1 33\n",
            "0 1 34\n",
            "0 1 35\n",
            "0 1 36\n",
            "0 1 37\n",
            "0 1 38\n",
            "0 1 39\n",
            "0 1 40\n",
            "0 1 41\n",
            "0 1 42\n",
            "0 1 43\n",
            "0 1 44\n",
            "0 1 45\n",
            "0 1 46\n",
            "0 1 47\n",
            "0 1 48\n",
            "0 1 49\n",
            "0 1 50\n",
            "0 1 51\n",
            "0 1 52\n",
            "0 1 53\n",
            "0 1 54\n",
            "0 1 55\n",
            "0 1 56\n",
            "0 1 57\n",
            "0 1 58\n",
            "0 1 59\n",
            "0 1 60\n",
            "0 1 61\n",
            "0 1 62\n",
            "0 1 63\n",
            "0 1 64\n",
            "0 1 65\n",
            "0 1 66\n",
            "0 1 67\n",
            "0 1 68\n",
            "0 1 69\n",
            "0 1 70\n",
            "0 1 71\n",
            "0 1 72\n",
            "0 1 73\n",
            "0 1 74\n",
            "0 1 75\n",
            "0 1 76\n",
            "0 1 77\n",
            "0 1 78\n",
            "0 1 79\n",
            "0 1 80\n",
            "0 1 81\n",
            "0 1 82\n",
            "0 1 83\n",
            "0 1 84\n",
            "0 1 85\n",
            "0 1 86\n",
            "0 1 87\n",
            "0 1 88\n",
            "0 1 89\n",
            "0 1 90\n",
            "0 1 91\n",
            "0 1 92\n",
            "0 1 93\n",
            "0 1 94\n",
            "0 1 95\n",
            "0 1 96\n",
            "0 1 97\n",
            "0 1 98\n",
            "0 1 99\n",
            "0 1 100\n",
            "0 1 101\n",
            "0 1 102\n",
            "0 1 103\n",
            "0 1 104\n",
            "0 1 105\n",
            "0 1 106\n",
            "0 1 107\n",
            "0 1 108\n",
            "0 1 109\n",
            "0 1 110\n",
            "0 1 111\n",
            "0 1 112\n",
            "0 1 113\n",
            "0 1 114\n",
            "0 1 115\n",
            "0 1 116\n",
            "0 1 117\n",
            "0 1 118\n",
            "0 1 119\n",
            "0 1 120\n",
            "0 1 121\n",
            "0 1 122\n",
            "0 1 123\n",
            "0 1 124\n",
            "0 1 125\n",
            "0 1 126\n",
            "0 1 127\n",
            "0 1 128\n",
            "0 1 129\n",
            "0 1 130\n",
            "0 1 131\n",
            "0 1 132\n",
            "0 1 133\n",
            "0 1 134\n",
            "0 1 135\n",
            "0 1 136\n",
            "0 1 137\n",
            "0 1 138\n",
            "0 1 139\n",
            "0 1 140\n",
            "0 1 141\n",
            "0 1 142\n",
            "0 1 143\n",
            "0 1 144\n",
            "0 1 145\n",
            "0 1 146\n",
            "0 1 147\n",
            "0 1 148\n",
            "0 1 149\n",
            "0 1 150\n",
            "0 1 151\n",
            "0 1 152\n",
            "0 1 153\n",
            "0 1 154\n",
            "0 1 155\n",
            "/content/drive/MyDrive/dataset/Dataset/Dataset/train_set/with fire/Inventory\n",
            "1 0 0\n",
            "1 0 1\n",
            "1 0 2\n",
            "1 0 3\n",
            "1 0 4\n",
            "1 0 5\n",
            "1 0 6\n",
            "1 0 7\n",
            "1 0 8\n",
            "1 0 9\n",
            "1 0 10\n",
            "1 0 11\n",
            "1 0 12\n",
            "1 0 13\n",
            "1 0 14\n",
            "1 0 15\n",
            "1 0 16\n",
            "1 0 17\n",
            "1 0 18\n",
            "1 0 19\n",
            "1 0 20\n",
            "1 0 21\n",
            "1 0 22\n",
            "1 0 23\n",
            "1 0 24\n",
            "1 0 25\n",
            "1 0 26\n",
            "1 0 27\n",
            "1 0 28\n",
            "1 0 29\n",
            "1 0 30\n",
            "1 0 31\n",
            "1 0 32\n",
            "1 0 33\n",
            "1 0 34\n",
            "1 0 35\n",
            "1 0 36\n",
            "1 0 37\n",
            "1 0 38\n",
            "1 0 39\n",
            "1 0 40\n",
            "1 0 41\n",
            "1 0 42\n",
            "1 0 43\n",
            "1 0 44\n",
            "1 0 45\n",
            "1 0 46\n",
            "1 0 47\n",
            "1 0 48\n",
            "1 0 49\n",
            "1 0 50\n",
            "1 1 0\n",
            "1 1 1\n",
            "1 1 2\n",
            "1 1 3\n",
            "1 1 4\n",
            "1 1 5\n",
            "1 1 6\n",
            "1 1 7\n",
            "1 1 8\n",
            "1 1 9\n",
            "1 1 10\n",
            "1 1 11\n",
            "1 1 12\n",
            "1 1 13\n",
            "1 1 14\n",
            "1 1 15\n",
            "1 1 16\n",
            "1 1 17\n",
            "1 1 18\n",
            "1 1 19\n",
            "1 1 20\n",
            "1 1 21\n",
            "1 1 22\n",
            "1 1 23\n",
            "1 1 24\n",
            "1 1 25\n",
            "1 1 26\n",
            "1 1 27\n",
            "1 1 28\n",
            "1 1 29\n",
            "1 1 30\n",
            "1 1 31\n",
            "1 1 32\n",
            "1 1 33\n",
            "1 1 34\n",
            "1 1 35\n",
            "1 1 36\n",
            "1 1 37\n",
            "1 1 38\n",
            "1 1 39\n",
            "1 1 40\n",
            "1 1 41\n",
            "1 1 42\n",
            "1 1 43\n",
            "1 1 44\n",
            "1 1 45\n",
            "1 1 46\n",
            "1 1 47\n",
            "1 1 48\n",
            "1 1 49\n",
            "1 1 50\n",
            "1 1 51\n",
            "1 1 52\n",
            "1 1 53\n",
            "1 1 54\n",
            "1 1 55\n",
            "1 1 56\n",
            "1 1 57\n",
            "1 1 58\n",
            "1 1 59\n",
            "1 1 60\n",
            "1 1 61\n",
            "1 1 62\n",
            "1 1 63\n",
            "1 1 64\n",
            "1 1 65\n",
            "1 1 66\n",
            "1 1 67\n",
            "1 1 68\n",
            "1 1 69\n",
            "1 1 70\n",
            "1 1 71\n"
          ]
        },
        {
          "output_type": "stream",
          "name": "stderr",
          "text": [
            "/usr/local/lib/python3.7/dist-packages/numpy/lib/npyio.py:528: VisibleDeprecationWarning: Creating an ndarray from ragged nested sequences (which is a list-or-tuple of lists-or-tuples-or ndarrays with different lengths or shapes) is deprecated. If you meant to do this, you must specify 'dtype=object' when creating the ndarray.\n",
            "  arr = np.asanyarray(arr)\n"
          ]
        }
      ],
      "source": [
        "import os\n",
        "import cv2 as cv\n",
        "import numpy as np\n",
        "\n",
        "def Read_Image(filename):\n",
        "  try:\n",
        "    image = cv.imread(filename)\n",
        "    image = np.uint8(image)\n",
        "  except:\n",
        "    print(filename)\n",
        "  \n",
        "  return image\n",
        "\n",
        "directory_path = '/content/drive/MyDrive/dataset/Dataset/Dataset/'\n",
        "listDir = os.listdir(directory_path)\n",
        "\n",
        "Images = []\n",
        "Target = []\n",
        "for i in range(len(listDir)):\n",
        "  folder = directory_path + listDir[i]\n",
        "  listfold = os.listdir(folder)\n",
        "  for j in range(len(listfold)):\n",
        "    sub_folder = folder + '/' + listfold[j]\n",
        "    sublist = os.listdir(sub_folder)\n",
        "    for k in range(len(sublist)):\n",
        "      print(i, j, k)\n",
        "      filename = sub_folder + '/' + sublist[k]\n",
        "      image = Read_Image(filename)\n",
        "      Target.append(1 if 'fire' in listfold[j] else 0)\n",
        "      Images.append(image)\n",
        "np.save(\"/content/drive/MyDrive/dataset/Images.npy\", Images)\n",
        "np.save(\"/content/drive/MyDrive/dataset/Target.npy\", Target)"
      ]
    },
    {
      "cell_type": "markdown",
      "source": [
        "#Data Augmentation\n"
      ],
      "metadata": {
        "id": "6b6tI7ZJTYWJ"
      }
    },
    {
      "cell_type": "code",
      "source": [
        "from tensorflow.keras.preprocessing.image import ImageDataGenerator\n"
      ],
      "metadata": {
        "id": "d9bXyNt8z3IE"
      },
      "execution_count": 9,
      "outputs": []
    },
    {
      "cell_type": "code",
      "source": [
        "train_datagen = ImageDataGenerator(rescale=1./255,\n",
        "                                   zoom_range=0.2,\n",
        "                                   horizontal_flip=True)\n",
        "\n",
        "\n",
        "test_datagen = ImageDataGenerator(rescale=1./255)"
      ],
      "metadata": {
        "id": "SZdwCFGjz5J4"
      },
      "execution_count": 10,
      "outputs": []
    },
    {
      "cell_type": "code",
      "source": [
        "xtrain = train_datagen.flow_from_directory('/content/drive/MyDrive/dataset/Dataset/Dataset/train_set',\n",
        "                                           target_size=(64,64),\n",
        "                                           class_mode='categorical',\n",
        "                                           batch_size=100)\n"
      ],
      "metadata": {
        "colab": {
          "base_uri": "https://localhost:8080/"
        },
        "id": "i9cT6WNuQ47P",
        "outputId": "b9033471-f03f-4b68-9890-b79908944b5c"
      },
      "execution_count": 11,
      "outputs": [
        {
          "output_type": "stream",
          "name": "stdout",
          "text": [
            "Found 465 images belonging to 2 classes.\n"
          ]
        }
      ]
    },
    {
      "cell_type": "code",
      "source": [
        "xtest = test_datagen.flow_from_directory('/content/drive/MyDrive/dataset/Dataset/Dataset/test_set',\n",
        "                                         target_size=(64,64),\n",
        "                                         class_mode='categorical',\n",
        "                                         batch_size=100)"
      ],
      "metadata": {
        "colab": {
          "base_uri": "https://localhost:8080/"
        },
        "id": "tA4ZXFjn0U9o",
        "outputId": "4476c119-e17b-42de-f76e-03701e9e6b01"
      },
      "execution_count": 12,
      "outputs": [
        {
          "output_type": "stream",
          "name": "stdout",
          "text": [
            "Found 123 images belonging to 2 classes.\n"
          ]
        }
      ]
    },
    {
      "cell_type": "markdown",
      "source": [
        "#CNN Model training"
      ],
      "metadata": {
        "id": "FGQGUrbvTlmh"
      }
    },
    {
      "cell_type": "code",
      "source": [
        "from tensorflow.keras.models import Sequential\n",
        "from tensorflow.keras.layers import Convolution2D, MaxPooling2D, Flatten, Dense"
      ],
      "metadata": {
        "id": "R2DOHuJy0swc"
      },
      "execution_count": 13,
      "outputs": []
    },
    {
      "cell_type": "code",
      "source": [
        "model = Sequential() # Initializing the model\n",
        "model.add(Convolution2D(32,(3,3),activation='relu',input_shape=(64,64,3))) # Covolution layer\n",
        "model.add(MaxPooling2D(pool_size=(2,2))) # Max pooling layer\n",
        "model.add(Flatten()) # Flatten layer\n",
        "model.add(Dense(300,activation='relu')) # Hidden layer 1\n",
        "model.add(Dense(150,activation='relu')) # Hidden layer 2\n",
        "model.add(Dense(2,activation='softmax')) # Output layer\n"
      ],
      "metadata": {
        "id": "UpJO69Za0tkv"
      },
      "execution_count": 14,
      "outputs": []
    },
    {
      "cell_type": "code",
      "source": [
        "model.compile(optimizer='adam',loss='categorical_crossentropy',metrics=['accuracy'])\n"
      ],
      "metadata": {
        "id": "vcYYyDvQ03ec"
      },
      "execution_count": 15,
      "outputs": []
    },
    {
      "cell_type": "markdown",
      "source": [
        "Training Model"
      ],
      "metadata": {
        "id": "yGDwocaoTtRk"
      }
    },
    {
      "cell_type": "code",
      "source": [
        "model.fit_generator(xtrain,\n",
        "                    steps_per_epoch=len(xtrain),\n",
        "                    epochs=10,\n",
        "                    validation_data=xtest,\n",
        "                    validation_steps=len(xtest))"
      ],
      "metadata": {
        "colab": {
          "base_uri": "https://localhost:8080/"
        },
        "id": "45hohHBz1CG8",
        "outputId": "89272601-34c1-42ee-f894-7380b3b40941"
      },
      "execution_count": 16,
      "outputs": [
        {
          "output_type": "stream",
          "name": "stderr",
          "text": [
            "/usr/local/lib/python3.7/dist-packages/ipykernel_launcher.py:5: UserWarning: `Model.fit_generator` is deprecated and will be removed in a future version. Please use `Model.fit`, which supports generators.\n",
            "  \"\"\"\n"
          ]
        },
        {
          "output_type": "stream",
          "name": "stdout",
          "text": [
            "Epoch 1/10\n",
            "5/5 [==============================] - 109s 22s/step - loss: 2.3052 - accuracy: 0.6000 - val_loss: 1.2770 - val_accuracy: 0.6748\n",
            "Epoch 2/10\n",
            "5/5 [==============================] - 19s 4s/step - loss: 0.9468 - accuracy: 0.6172 - val_loss: 0.3324 - val_accuracy: 0.8455\n",
            "Epoch 3/10\n",
            "5/5 [==============================] - 20s 4s/step - loss: 0.4875 - accuracy: 0.7634 - val_loss: 0.3175 - val_accuracy: 0.8618\n",
            "Epoch 4/10\n",
            "5/5 [==============================] - 19s 4s/step - loss: 0.3280 - accuracy: 0.8280 - val_loss: 0.1224 - val_accuracy: 0.9593\n",
            "Epoch 5/10\n",
            "5/5 [==============================] - 21s 5s/step - loss: 0.2633 - accuracy: 0.9097 - val_loss: 0.0916 - val_accuracy: 0.9837\n",
            "Epoch 6/10\n",
            "5/5 [==============================] - 19s 4s/step - loss: 0.2172 - accuracy: 0.9097 - val_loss: 0.0730 - val_accuracy: 0.9919\n",
            "Epoch 7/10\n",
            "5/5 [==============================] - 20s 4s/step - loss: 0.1725 - accuracy: 0.9355 - val_loss: 0.0605 - val_accuracy: 0.9919\n",
            "Epoch 8/10\n",
            "5/5 [==============================] - 19s 4s/step - loss: 0.1568 - accuracy: 0.9333 - val_loss: 0.0534 - val_accuracy: 0.9837\n",
            "Epoch 9/10\n",
            "5/5 [==============================] - 20s 4s/step - loss: 0.1547 - accuracy: 0.9376 - val_loss: 0.0462 - val_accuracy: 0.9919\n",
            "Epoch 10/10\n",
            "5/5 [==============================] - 19s 4s/step - loss: 0.1328 - accuracy: 0.9441 - val_loss: 0.0419 - val_accuracy: 0.9837\n"
          ]
        },
        {
          "output_type": "execute_result",
          "data": {
            "text/plain": [
              "<keras.callbacks.History at 0x7f2fa0b63c10>"
            ]
          },
          "metadata": {},
          "execution_count": 16
        }
      ]
    },
    {
      "cell_type": "markdown",
      "source": [
        "Save the Model"
      ],
      "metadata": {
        "id": "l-ATf7RzTwV5"
      }
    },
    {
      "cell_type": "code",
      "source": [
        "model.save('fire.h5')"
      ],
      "metadata": {
        "id": "Et6t7a411M0N"
      },
      "execution_count": 17,
      "outputs": []
    },
    {
      "cell_type": "markdown",
      "source": [
        "#Testing the Model"
      ],
      "metadata": {
        "id": "AzdrrsCaT1us"
      }
    },
    {
      "cell_type": "code",
      "source": [
        "import numpy as np\n",
        "from tensorflow.keras.preprocessing import image"
      ],
      "metadata": {
        "id": "WggjyZcj1WDK"
      },
      "execution_count": 18,
      "outputs": []
    },
    {
      "cell_type": "code",
      "source": [
        "img = image.load_img('/content/drive/MyDrive/dataset/Dataset/Dataset/test_set/forest/1_chimp.jpg',target_size=(64,64)) # Reading image\n",
        "x = image.img_to_array(img) # Converting image to array\n",
        "x = np.expand_dims(x,axis=0) # Expanding dimension\n",
        "pred = np.argmax(model.predict(x)) # Predicting higher prob. index\n",
        "print(pred, model.predict(x))\n",
        "op = ['fire','no fire'] # Creating list of output categories\n",
        "print(op[pred]) # Matching the index"
      ],
      "metadata": {
        "colab": {
          "base_uri": "https://localhost:8080/"
        },
        "id": "WuXKw_IQ1scF",
        "outputId": "772d4df7-1f7e-4b8b-9829-55292110b4d6"
      },
      "execution_count": 19,
      "outputs": [
        {
          "output_type": "stream",
          "name": "stdout",
          "text": [
            "1/1 [==============================] - 0s 83ms/step\n",
            "1/1 [==============================] - 0s 17ms/step\n",
            "0 [[1. 0.]]\n",
            "fire\n"
          ]
        }
      ]
    },
    {
      "cell_type": "code",
      "source": [
        "img = image.load_img('/content/drive/MyDrive/dataset/Dataset/Dataset/train_set/forest/with_fire (36).jpg',target_size=(64,64)) # Reading image\n",
        "x = image.img_to_array(img) # Converting image to array\n",
        "x = np.expand_dims(x,axis=0) # Expanding dimension\n",
        "pred = np.argmax(model.predict(x)) # Predicting higher prob. index\n",
        "print(pred, model.predict(x))\n",
        "op = ['fire','no fire'] # Creating list of output categories\n",
        "print(op[pred]) # Matching the index\n"
      ],
      "metadata": {
        "colab": {
          "base_uri": "https://localhost:8080/"
        },
        "id": "bCzi1VAz3bCN",
        "outputId": "fc7535b5-c1a9-4ceb-e77a-a5539f903fd0"
      },
      "execution_count": 20,
      "outputs": [
        {
          "output_type": "stream",
          "name": "stdout",
          "text": [
            "1/1 [==============================] - 0s 28ms/step\n",
            "1/1 [==============================] - 0s 22ms/step\n",
            "0 [[1. 0.]]\n",
            "fire\n"
          ]
        }
      ]
    },
    {
      "cell_type": "code",
      "source": [
        "img = image.load_img('/content/drive/MyDrive/dataset/Dataset/Dataset/test_set/with fire/uttarakhand_forest_fire_750x500.jpg',target_size=(64,64)) # Reading image\n",
        "x = image.img_to_array(img) # Converting image to array\n",
        "x = np.expand_dims(x,axis=0) # Expanding dimension\n",
        "pred = np.argmax(model.predict(x)) # Predicting higher prob. index\n",
        "print(pred, model.predict(x))\n",
        "op = ['fire','no fire'] # Creating list of output categories\n",
        "print(op[pred]) # Matching the index"
      ],
      "metadata": {
        "colab": {
          "base_uri": "https://localhost:8080/"
        },
        "id": "sRkK5Ky-3nfg",
        "outputId": "07ae048d-e4ad-412c-eb9a-789d99cb53ad"
      },
      "execution_count": 21,
      "outputs": [
        {
          "output_type": "stream",
          "name": "stdout",
          "text": [
            "1/1 [==============================] - 0s 25ms/step\n",
            "1/1 [==============================] - 0s 27ms/step\n",
            "1 [[0. 1.]]\n",
            "no fire\n"
          ]
        }
      ]
    },
    {
      "cell_type": "code",
      "source": [
        "xtrain.class_indices"
      ],
      "metadata": {
        "id": "jZDsFdRV6G4N",
        "colab": {
          "base_uri": "https://localhost:8080/"
        },
        "outputId": "3437ac99-8e16-4065-a4f4-f085f45e971f"
      },
      "execution_count": 22,
      "outputs": [
        {
          "output_type": "execute_result",
          "data": {
            "text/plain": [
              "{'forest': 0, 'with fire': 1}"
            ]
          },
          "metadata": {},
          "execution_count": 22
        }
      ]
    },
    {
      "cell_type": "markdown",
      "source": [
        "#Tuning Model"
      ],
      "metadata": {
        "id": "AqduznxPUCVB"
      }
    },
    {
      "cell_type": "code",
      "source": [
        "from tensorflow.keras.callbacks import EarlyStopping, ReduceLROnPlateau"
      ],
      "metadata": {
        "id": "IIZTDQGnUAn9"
      },
      "execution_count": 23,
      "outputs": []
    },
    {
      "cell_type": "code",
      "source": [
        "early_stop = EarlyStopping(monitor='val_accuracy',\n",
        "                           patience=5)\n",
        "\n",
        "lr = ReduceLROnPlateau(monitor='val_accuracy', \n",
        "                       factor=0.5, \n",
        "                       patience=5,\n",
        "                       min_lr=0.00001)\n",
        "\n",
        "callbacks = [early_stop,lr]"
      ],
      "metadata": {
        "id": "w6u9IT9MUJI7"
      },
      "execution_count": 24,
      "outputs": []
    },
    {
      "cell_type": "markdown",
      "source": [
        "Training Model"
      ],
      "metadata": {
        "id": "30HtaU4TUSi_"
      }
    },
    {
      "cell_type": "code",
      "source": [
        "model.fit_generator(xtrain,\n",
        "                    steps_per_epoch=len(xtrain),\n",
        "                    epochs=100,\n",
        "                    callbacks=callbacks,\n",
        "                    validation_data=xtest,\n",
        "                    validation_steps=len(xtest),)"
      ],
      "metadata": {
        "colab": {
          "base_uri": "https://localhost:8080/"
        },
        "id": "YyZiZ4wgUOF0",
        "outputId": "66f25da8-6d0b-4896-c125-589dda6290bb"
      },
      "execution_count": 25,
      "outputs": [
        {
          "output_type": "stream",
          "name": "stderr",
          "text": [
            "/usr/local/lib/python3.7/dist-packages/ipykernel_launcher.py:6: UserWarning: `Model.fit_generator` is deprecated and will be removed in a future version. Please use `Model.fit`, which supports generators.\n",
            "  \n"
          ]
        },
        {
          "output_type": "stream",
          "name": "stdout",
          "text": [
            "Epoch 1/100\n",
            "5/5 [==============================] - 24s 5s/step - loss: 0.1386 - accuracy: 0.9398 - val_loss: 0.0378 - val_accuracy: 0.9919 - lr: 0.0010\n",
            "Epoch 2/100\n",
            "5/5 [==============================] - 21s 4s/step - loss: 0.1478 - accuracy: 0.9269 - val_loss: 0.0539 - val_accuracy: 0.9675 - lr: 0.0010\n",
            "Epoch 3/100\n",
            "5/5 [==============================] - 20s 4s/step - loss: 0.1320 - accuracy: 0.9398 - val_loss: 0.0333 - val_accuracy: 0.9837 - lr: 0.0010\n",
            "Epoch 4/100\n",
            "5/5 [==============================] - 20s 5s/step - loss: 0.1454 - accuracy: 0.9355 - val_loss: 0.0682 - val_accuracy: 0.9837 - lr: 0.0010\n",
            "Epoch 5/100\n",
            "5/5 [==============================] - 20s 4s/step - loss: 0.1368 - accuracy: 0.9441 - val_loss: 0.0401 - val_accuracy: 0.9837 - lr: 0.0010\n",
            "Epoch 6/100\n",
            "5/5 [==============================] - 48s 10s/step - loss: 0.1110 - accuracy: 0.9570 - val_loss: 0.0236 - val_accuracy: 0.9919 - lr: 0.0010\n"
          ]
        },
        {
          "output_type": "execute_result",
          "data": {
            "text/plain": [
              "<keras.callbacks.History at 0x7f2f9bb052d0>"
            ]
          },
          "metadata": {},
          "execution_count": 25
        }
      ]
    },
    {
      "cell_type": "code",
      "source": [
        "img = image.load_img('/content/drive/MyDrive/dataset/Dataset/Dataset/train_set/forest/with_fire (10).jpeg',target_size=(64,64)) # Reading image\n",
        "x = image.img_to_array(img) # Converting image to array\n",
        "x = np.expand_dims(x,axis=0) # Expanding dimension\n",
        "pred = np.argmax(model.predict(x)) # Predicting higher prob. index\n",
        "print(pred, model.predict(x))\n",
        "op = ['fire','no fire'] # Creating list of output categories\n",
        "print(op[pred]) # Matching the index"
      ],
      "metadata": {
        "colab": {
          "base_uri": "https://localhost:8080/"
        },
        "id": "1Dqej8rAUR7h",
        "outputId": "b94e4970-6a2b-47be-8cd9-6b27183d2b87"
      },
      "execution_count": 26,
      "outputs": [
        {
          "output_type": "stream",
          "name": "stdout",
          "text": [
            "1/1 [==============================] - 0s 71ms/step\n",
            "1/1 [==============================] - 0s 64ms/step\n",
            "0 [[1. 0.]]\n",
            "fire\n"
          ]
        }
      ]
    }
  ],
  "metadata": {
    "colab": {
      "provenance": [],
      "toc_visible": true
    },
    "kernelspec": {
      "display_name": "Python 3",
      "name": "python3"
    },
    "language_info": {
      "name": "python"
    }
  },
  "nbformat": 4,
  "nbformat_minor": 0
}